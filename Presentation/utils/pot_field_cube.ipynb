{
 "cells": [
  {
   "cell_type": "code",
   "execution_count": 1,
   "metadata": {},
   "outputs": [],
   "source": [
    "from utils import Solvers\n",
    "from utils.BC import BC\n",
    "\n",
    "import bempp.api\n",
    "import numpy as np\n",
    "import matplotlib.pyplot as plt\n",
    "\n",
    "import os"
   ]
  },
  {
   "cell_type": "markdown",
   "metadata": {},
   "source": [
    "\n",
    "\n",
    "# Problem: Potential field in a cube\n",
    "$$\n",
    "\\begin{equation}\n",
    "\\left\\{ \\begin{aligned} \n",
    "  -\\Delta u = 0&,\\;\\;\\Omega =\\left[-\\frac{1}{2},\\frac{1}{2}\\right]^3\\\\\n",
    "  u = x&, \\;\\;x \\in \\partial\\Omega\n",
    "\\end{aligned} \\right.\n",
    "\\end{equation}\n",
    "$$\n"
   ]
  },
  {
   "cell_type": "markdown",
   "metadata": {},
   "source": [
    "### Data implementation"
   ]
  },
  {
   "cell_type": "code",
   "execution_count": 2,
   "metadata": {},
   "outputs": [],
   "source": [
    "@bempp.api.real_callable\n",
    "def dirichlet_data(x, n, domain_index, res):\n",
    "    res[0] = x[0]\n"
   ]
  },
  {
   "cell_type": "markdown",
   "metadata": {},
   "source": [
    "### Set domain, boundary conditions, function spaces and solve"
   ]
  },
  {
   "cell_type": "code",
   "execution_count": null,
   "metadata": {},
   "outputs": [
    {
     "name": "stdout",
     "output_type": "stream",
     "text": [
      "\n"
     ]
    }
   ],
   "source": [
    "## Domain\n",
    "grid = bempp.api.shapes.cube(h=0.1)\n",
    "\n",
    "## Boundary condition and function space\n",
    "dirichlet_BC = BC(space=(\"P\", 1), data=dirichlet_data, allocation=[1,2,3,4,5,6])\n",
    "\n",
    "neumann_fun = Solvers.Dirichlet(grid, dirichlet_BC)"
   ]
  },
  {
   "cell_type": "markdown",
   "metadata": {},
   "source": [
    "### Export solution to Gmsh"
   ]
  },
  {
   "cell_type": "code",
   "execution_count": null,
   "metadata": {},
   "outputs": [
    {
     "data": {
      "text/plain": [
       "0"
      ]
     },
     "execution_count": 4,
     "metadata": {},
     "output_type": "execute_result"
    }
   ],
   "source": [
    "bempp.api.export(\n",
    "    \"pot_cube.msh\", grid_function=neumann_fun\n",
    ")\n",
    "\n"
   ]
  },
  {
   "cell_type": "code",
   "execution_count": 7,
   "metadata": {},
   "outputs": [
    {
     "data": {
      "text/plain": [
       "0"
      ]
     },
     "execution_count": 7,
     "metadata": {},
     "output_type": "execute_result"
    }
   ],
   "source": [
    "os.system(\"gmsh 'pot_cube.msh'&\")"
   ]
  }
 ],
 "metadata": {
  "kernelspec": {
   "display_name": "Python 3",
   "language": "python",
   "name": "python3"
  },
  "language_info": {
   "codemirror_mode": {
    "name": "ipython",
    "version": 3
   },
   "file_extension": ".py",
   "mimetype": "text/x-python",
   "name": "python",
   "nbconvert_exporter": "python",
   "pygments_lexer": "ipython3",
   "version": "3.8.10"
  }
 },
 "nbformat": 4,
 "nbformat_minor": 2
}
